{
  "nbformat": 4,
  "nbformat_minor": 0,
  "metadata": {
    "colab": {
      "provenance": []
    },
    "kernelspec": {
      "name": "python3",
      "display_name": "Python 3"
    },
    "language_info": {
      "name": "python"
    }
  },
  "cells": [
    {
      "cell_type": "code",
      "execution_count": 92,
      "metadata": {
        "colab": {
          "base_uri": "https://localhost:8080/"
        },
        "id": "GUbXTWfmowZc",
        "outputId": "70b0eee9-94f8-4da1-8a88-e54e027af852"
      },
      "outputs": [
        {
          "output_type": "stream",
          "name": "stdout",
          "text": [
            "Python 3.8.10\n",
            "NumPy 1.22.4\n"
          ]
        }
      ],
      "source": [
        "!python --version\n",
        "import numpy as np\n",
        "\n",
        "print('NumPy', np.__version__)"
      ]
    },
    {
      "cell_type": "code",
      "source": [
        "def FizzBuzz(x):\n",
        "    ans = []\n",
        "    return ans"
      ],
      "metadata": {
        "id": "1vSs6huerjbu"
      },
      "execution_count": 93,
      "outputs": []
    },
    {
      "cell_type": "code",
      "source": [
        "def FizzBuzz(x):\n",
        "    if x % 3 == 0 and x % 5 != 0:\n",
        "        return \"Fizz!\"\n",
        "    elif x % 5 == 0 and x % 3 != 0:\n",
        "        return \"Buzz!\"\n",
        "    elif x % 3 == 0 and x % 5 == 0:\n",
        "        return \"FizzBuzz!\"\n",
        "    else:\n",
        "        return \"...\"\n",
        "        print(FizzBuzz(5))\n",
        "print(FizzBuzz(-30))"
      ],
      "metadata": {
        "colab": {
          "base_uri": "https://localhost:8080/"
        },
        "id": "FzBTdnltoy-N",
        "outputId": "da9246d0-93ad-4dd1-d1fa-adb1efdbd82c"
      },
      "execution_count": 94,
      "outputs": [
        {
          "output_type": "stream",
          "name": "stdout",
          "text": [
            "FizzBuzz!\n"
          ]
        }
      ]
    },
    {
      "cell_type": "code",
      "source": [
        "def FizzBuzzList(n):\n",
        "    if n <= 0:\n",
        "        return []\n",
        "    else:\n",
        "        result = []\n",
        "        for i in range(1, n+1):\n",
        "            if i % 3 == 0 and i % 5 != 0:\n",
        "                result.append(\"Fizz!\")\n",
        "            elif i % 5 == 0 and i % 3 != 0:\n",
        "                result.append(\"Buzz!\")\n",
        "            elif i % 3 == 0 and i % 5 == 0:\n",
        "                result.append(\"FizzBuzz!\")\n",
        "            else:\n",
        "                result.append(\"...\")\n",
        "        return result\n",
        "print(FizzBuzzList(5))\n"
      ],
      "metadata": {
        "colab": {
          "base_uri": "https://localhost:8080/"
        },
        "id": "GcfODOrOo__t",
        "outputId": "60b2a76a-6471-4e0c-a2c8-47a584a4281f"
      },
      "execution_count": 95,
      "outputs": [
        {
          "output_type": "stream",
          "name": "stdout",
          "text": [
            "['...', '...', 'Fizz!', '...', 'Buzz!']\n"
          ]
        }
      ]
    },
    {
      "cell_type": "code",
      "source": [
        "def standarize(X):\n",
        "    mean = np.mean(X)\n",
        "    std_dev = np.std(X)\n",
        "    z_scores = (X - mean) / std_dev\n",
        "    return z_scores\n",
        "print(standarize)\n"
      ],
      "metadata": {
        "colab": {
          "base_uri": "https://localhost:8080/"
        },
        "id": "8CcFa8kppVq1",
        "outputId": "61074be2-b8fb-4b91-b4b7-3fbd45bf377b"
      },
      "execution_count": 96,
      "outputs": [
        {
          "output_type": "stream",
          "name": "stdout",
          "text": [
            "<function standarize at 0x7feb3f389d30>\n"
          ]
        }
      ]
    },
    {
      "cell_type": "code",
      "source": [
        "import numpy as np\n",
        "\n",
        "def main_diagonal_matrix(A):\n",
        "    D = np.diag(np.diag(A)).astype(float)\n",
        "    return D"
      ],
      "metadata": {
        "id": "BIz_s0YVpybe"
      },
      "execution_count": 107,
      "outputs": []
    },
    {
      "cell_type": "code",
      "source": [
        "A = np.array([\n",
        "    [1, 0, 2, 9, 2],\n",
        "    [9, 2, 6, 5, 7],\n",
        "    [6, 4, 3, 4, 7]\n",
        "\n",
        "])\n",
        "print(A)"
      ],
      "metadata": {
        "colab": {
          "base_uri": "https://localhost:8080/"
        },
        "id": "HGfZo6uxqBN1",
        "outputId": "4a133919-8743-4cdb-8b69-76104d2adb4f"
      },
      "execution_count": 99,
      "outputs": [
        {
          "output_type": "stream",
          "name": "stdout",
          "text": [
            "[[1 0 2 9 2]\n",
            " [9 2 6 5 7]\n",
            " [6 4 3 4 7]]\n"
          ]
        }
      ]
    },
    {
      "cell_type": "code",
      "source": [
        "A([\n",
        "    [4, 0, 2],\n",
        "    [9, 5, 6],\n",
        "    [1, 9, 6],\n",
        "    [3, 0, 5]\n",
        "\n",
        "])\n",
        "print(main_diagonal_matrix)"
      ],
      "metadata": {
        "colab": {
          "base_uri": "https://localhost:8080/"
        },
        "id": "VLGw2zTJwRb_",
        "outputId": "8052ad0b-395a-4f47-d14c-2d76137e224c"
      },
      "execution_count": 100,
      "outputs": [
        {
          "output_type": "stream",
          "name": "stdout",
          "text": [
            "[[4 0 2]\n",
            " [9 5 6]\n",
            " [1 9 6]\n",
            " [3 0 5]]\n"
          ]
        }
      ]
    }
  ]
}